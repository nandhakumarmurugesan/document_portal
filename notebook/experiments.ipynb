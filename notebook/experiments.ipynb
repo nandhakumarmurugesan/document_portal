{
 "cells": [
  {
   "cell_type": "code",
   "execution_count": null,
   "id": "df86c8d5",
   "metadata": {},
   "outputs": [
    {
     "name": "stdout",
     "output_type": "stream",
     "text": [
      "ok\n"
     ]
    }
   ],
   "source": [
    "print(\"ok\")"
   ]
  },
  {
   "cell_type": "code",
   "execution_count": 27,
   "id": "b9b2ecdd",
   "metadata": {},
   "outputs": [],
   "source": [
    "from langchain_groq import ChatGroq"
   ]
  },
  {
   "cell_type": "code",
   "execution_count": 28,
   "id": "2088e4e2",
   "metadata": {},
   "outputs": [],
   "source": [
    "from dotenv import load_dotenv"
   ]
  },
  {
   "cell_type": "code",
   "execution_count": 29,
   "id": "bd3eef45",
   "metadata": {},
   "outputs": [
    {
     "data": {
      "text/plain": [
       "True"
      ]
     },
     "execution_count": 29,
     "metadata": {},
     "output_type": "execute_result"
    }
   ],
   "source": [
    "load_dotenv()"
   ]
  },
  {
   "cell_type": "code",
   "execution_count": 30,
   "id": "80e37e8d",
   "metadata": {},
   "outputs": [],
   "source": [
    "model=ChatGroq(model=\"qwen/qwen3-32b\")"
   ]
  },
  {
   "cell_type": "code",
   "execution_count": 31,
   "id": "ba4229c5",
   "metadata": {},
   "outputs": [
    {
     "data": {
      "text/plain": [
       "'<think>\\nOkay, so the user is asking, \"What is the capital of India?\" Let me start by recalling what I know about India\\'s capital. I remember that New Delhi is the capital. But wait, wasn\\'t there another city that was the capital before? Like, maybe Delhi used to be called something else? I think Delhi was the capital during the Mughal Empire, but then when the British took over, they might have moved the capital or renamed it. Let me check that in my mind.\\n\\nOh right, Delhi was the capital of the Mughal Empire, and then the British moved the capital from Calcutta to Delhi in 1911. That\\'s when New Delhi was planned and constructed as the new capital. So New Delhi is the current capital, while Delhi is the larger metropolis that includes New Delhi. Is there any chance that people confuse Delhi with New Delhi? I think sometimes people refer to Delhi as the capital, but technically it\\'s New Delhi. Also, the government offices and the Parliament are in New Delhi, which is a part of the National Capital Territory of Delhi. \\n\\nWait, the National Capital Territory (NCT) of Delhi is a union territory, right? So New Delhi is within the NCT. The confusion might come from the fact that Delhi is a city and also a union territory, but the actual capital city is New Delhi. Let me confirm the dates again. The British moved the capital from Calcutta to Delhi in 1911, and New Delhi was built for that purpose. So that makes sense. So the answer should be New Delhi. But the user might just say Delhi, and that\\'s okay, but technically it\\'s New Delhi. I should mention both to clarify any possible confusion. Also, maybe mention that it\\'s part of the National Capital Territory. Let me make sure there\\'s no other city that\\'s been the capital. Like, maybe Mumbai? No, Mumbai used to be called Bombay, but it was the capital of the state, not the country. So no, the capital has been New Delhi since 1911. Alright, I think that\\'s solid. Let me put it all together clearly.\\n</think>\\n\\nThe capital of India is **New Delhi**. While \"Delhi\" is often used informally to refer to the capital region, the official capital is **New Delhi**, a city within the **National Capital Territory (NCT) of Delhi**. \\n\\n**Key points:**\\n- **New Delhi** became the capital in 1911, when the British shifted the capital from Calcutta (now Kolkata) to Delhi.\\n- It is part of the larger **Delhi** metropolitan area, which includes the historic city of Delhi and surrounding regions.\\n- The **Parliament of India**, **President\\'s House (Rashtrapati Bhavan)**, and other key government institutions are located in New Delhi.\\n\\nSo, to answer concisely: **New Delhi** is the capital of India.'"
      ]
     },
     "execution_count": 31,
     "metadata": {},
     "output_type": "execute_result"
    }
   ],
   "source": [
    "model.invoke(\"what is the capital of India?\").content"
   ]
  },
  {
   "cell_type": "code",
   "execution_count": null,
   "id": "b508451c",
   "metadata": {},
   "outputs": [],
   "source": []
  },
  {
   "cell_type": "code",
   "execution_count": 26,
   "id": "4417e8f5",
   "metadata": {},
   "outputs": [
    {
     "ename": "NameError",
     "evalue": "name 'os' is not defined",
     "output_type": "error",
     "traceback": [
      "\u001b[1;31m---------------------------------------------------------------------------\u001b[0m",
      "\u001b[1;31mNameError\u001b[0m                                 Traceback (most recent call last)",
      "Cell \u001b[1;32mIn[26], line 1\u001b[0m\n\u001b[1;32m----> 1\u001b[0m model\u001b[38;5;241m=\u001b[39mChatGroq(model\u001b[38;5;241m=\u001b[39m\u001b[38;5;124m\"\u001b[39m\u001b[38;5;124mqwen/qwen3-32b\u001b[39m\u001b[38;5;124m\"\u001b[39m, api_key\u001b[38;5;241m=\u001b[39m\u001b[43mos\u001b[49m\u001b[38;5;241m.\u001b[39mgetenv(\u001b[38;5;124m\"\u001b[39m\u001b[38;5;124m\"\u001b[39m) )\n",
      "\u001b[1;31mNameError\u001b[0m: name 'os' is not defined"
     ]
    }
   ],
   "source": [
    "model=ChatGroq(model=\"qwen/qwen3-32b\", api_key=os.getenv(\"\") )"
   ]
  },
  {
   "cell_type": "code",
   "execution_count": null,
   "id": "41f02b73",
   "metadata": {},
   "outputs": [],
   "source": []
  },
  {
   "cell_type": "markdown",
   "id": "2eeaeed8",
   "metadata": {},
   "source": []
  }
 ],
 "metadata": {
  "kernelspec": {
   "display_name": "env",
   "language": "python",
   "name": "python3"
  },
  "language_info": {
   "codemirror_mode": {
    "name": "ipython",
    "version": 3
   },
   "file_extension": ".py",
   "mimetype": "text/x-python",
   "name": "python",
   "nbconvert_exporter": "python",
   "pygments_lexer": "ipython3",
   "version": "3.10.18"
  }
 },
 "nbformat": 4,
 "nbformat_minor": 5
}
